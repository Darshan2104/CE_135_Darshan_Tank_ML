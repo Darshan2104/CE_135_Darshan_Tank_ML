{
  "nbformat": 4,
  "nbformat_minor": 0,
  "metadata": {
    "colab": {
      "name": "Lab_2.ipynb",
      "provenance": [],
      "collapsed_sections": [],
      "mount_file_id": "1hguVtzvjHEa-B3YjW2Z6r0dBSgRCd9cX",
      "authorship_tag": "ABX9TyNs+5trHNmcZ3E8P9hafXeR",
      "include_colab_link": true
    },
    "kernelspec": {
      "name": "python3",
      "display_name": "Python 3"
    },
    "language_info": {
      "name": "python"
    }
  },
  "cells": [
    {
      "cell_type": "markdown",
      "metadata": {
        "id": "view-in-github",
        "colab_type": "text"
      },
      "source": [
        "<a href=\"https://colab.research.google.com/github/Darshan2104/CE_135_Darshan_Tank_ML/blob/main/Lab_2.ipynb\" target=\"_parent\"><img src=\"https://colab.research.google.com/assets/colab-badge.svg\" alt=\"Open In Colab\"/></a>"
      ]
    },
    {
      "cell_type": "markdown",
      "metadata": {
        "id": "s8DJM24Yhj6m"
      },
      "source": [
        "## **Perform all data preprocessing tasks and feature selection on “Exercise-CarData.csv”**"
      ]
    },
    {
      "cell_type": "code",
      "metadata": {
        "id": "7pot1w7dfN_y",
        "colab": {
          "base_uri": "https://localhost:8080/"
        },
        "outputId": "85c659c8-3618-4e0e-ed22-4dd9c1d7e539"
      },
      "source": [
        "from google.colab import drive\n",
        "drive.mount('/content/drive')"
      ],
      "execution_count": 1,
      "outputs": [
        {
          "output_type": "stream",
          "text": [
            "Drive already mounted at /content/drive; to attempt to forcibly remount, call drive.mount(\"/content/drive\", force_remount=True).\n"
          ],
          "name": "stdout"
        }
      ]
    },
    {
      "cell_type": "code",
      "metadata": {
        "id": "RQv1llnpfgSt"
      },
      "source": [
        "import numpy as np\n",
        "import pandas as pd\n",
        "import matplotlib.pyplot as plt"
      ],
      "execution_count": 56,
      "outputs": []
    },
    {
      "cell_type": "code",
      "metadata": {
        "colab": {
          "base_uri": "https://localhost:8080/",
          "height": 459
        },
        "id": "8uj-IPxhg7P0",
        "outputId": "b7639d19-1c38-42ef-b20d-cca2518e7aad"
      },
      "source": [
        "data = pd.read_csv('/content/drive/MyDrive/L2/Datasets/Exercise-CarData.csv')\n",
        "data"
      ],
      "execution_count": 22,
      "outputs": [
        {
          "output_type": "execute_result",
          "data": {
            "text/html": [
              "<div>\n",
              "<style scoped>\n",
              "    .dataframe tbody tr th:only-of-type {\n",
              "        vertical-align: middle;\n",
              "    }\n",
              "\n",
              "    .dataframe tbody tr th {\n",
              "        vertical-align: top;\n",
              "    }\n",
              "\n",
              "    .dataframe thead th {\n",
              "        text-align: right;\n",
              "    }\n",
              "</style>\n",
              "<table border=\"1\" class=\"dataframe\">\n",
              "  <thead>\n",
              "    <tr style=\"text-align: right;\">\n",
              "      <th></th>\n",
              "      <th>Unnamed: 0</th>\n",
              "      <th>Price</th>\n",
              "      <th>Age</th>\n",
              "      <th>KM</th>\n",
              "      <th>FuelType</th>\n",
              "      <th>HP</th>\n",
              "      <th>MetColor</th>\n",
              "      <th>Automatic</th>\n",
              "      <th>CC</th>\n",
              "      <th>Doors</th>\n",
              "      <th>Weight</th>\n",
              "    </tr>\n",
              "  </thead>\n",
              "  <tbody>\n",
              "    <tr>\n",
              "      <th>0</th>\n",
              "      <td>0</td>\n",
              "      <td>13500</td>\n",
              "      <td>23.0</td>\n",
              "      <td>46986</td>\n",
              "      <td>Diesel</td>\n",
              "      <td>90</td>\n",
              "      <td>1.0</td>\n",
              "      <td>0</td>\n",
              "      <td>2000</td>\n",
              "      <td>three</td>\n",
              "      <td>1165</td>\n",
              "    </tr>\n",
              "    <tr>\n",
              "      <th>1</th>\n",
              "      <td>1</td>\n",
              "      <td>13750</td>\n",
              "      <td>23.0</td>\n",
              "      <td>72937</td>\n",
              "      <td>Diesel</td>\n",
              "      <td>90</td>\n",
              "      <td>1.0</td>\n",
              "      <td>0</td>\n",
              "      <td>2000</td>\n",
              "      <td>3</td>\n",
              "      <td>1165</td>\n",
              "    </tr>\n",
              "    <tr>\n",
              "      <th>2</th>\n",
              "      <td>2</td>\n",
              "      <td>13950</td>\n",
              "      <td>24.0</td>\n",
              "      <td>41711</td>\n",
              "      <td>Diesel</td>\n",
              "      <td>90</td>\n",
              "      <td>NaN</td>\n",
              "      <td>0</td>\n",
              "      <td>2000</td>\n",
              "      <td>3</td>\n",
              "      <td>1165</td>\n",
              "    </tr>\n",
              "    <tr>\n",
              "      <th>3</th>\n",
              "      <td>3</td>\n",
              "      <td>14950</td>\n",
              "      <td>26.0</td>\n",
              "      <td>48000</td>\n",
              "      <td>Diesel</td>\n",
              "      <td>90</td>\n",
              "      <td>0.0</td>\n",
              "      <td>0</td>\n",
              "      <td>2000</td>\n",
              "      <td>3</td>\n",
              "      <td>1165</td>\n",
              "    </tr>\n",
              "    <tr>\n",
              "      <th>4</th>\n",
              "      <td>4</td>\n",
              "      <td>13750</td>\n",
              "      <td>30.0</td>\n",
              "      <td>38500</td>\n",
              "      <td>Diesel</td>\n",
              "      <td>90</td>\n",
              "      <td>0.0</td>\n",
              "      <td>0</td>\n",
              "      <td>2000</td>\n",
              "      <td>3</td>\n",
              "      <td>1170</td>\n",
              "    </tr>\n",
              "    <tr>\n",
              "      <th>...</th>\n",
              "      <td>...</td>\n",
              "      <td>...</td>\n",
              "      <td>...</td>\n",
              "      <td>...</td>\n",
              "      <td>...</td>\n",
              "      <td>...</td>\n",
              "      <td>...</td>\n",
              "      <td>...</td>\n",
              "      <td>...</td>\n",
              "      <td>...</td>\n",
              "      <td>...</td>\n",
              "    </tr>\n",
              "    <tr>\n",
              "      <th>1431</th>\n",
              "      <td>1431</td>\n",
              "      <td>7500</td>\n",
              "      <td>NaN</td>\n",
              "      <td>20544</td>\n",
              "      <td>Petrol</td>\n",
              "      <td>86</td>\n",
              "      <td>1.0</td>\n",
              "      <td>0</td>\n",
              "      <td>1300</td>\n",
              "      <td>3</td>\n",
              "      <td>1025</td>\n",
              "    </tr>\n",
              "    <tr>\n",
              "      <th>1432</th>\n",
              "      <td>1432</td>\n",
              "      <td>10845</td>\n",
              "      <td>72.0</td>\n",
              "      <td>??</td>\n",
              "      <td>Petrol</td>\n",
              "      <td>86</td>\n",
              "      <td>0.0</td>\n",
              "      <td>0</td>\n",
              "      <td>1300</td>\n",
              "      <td>3</td>\n",
              "      <td>1015</td>\n",
              "    </tr>\n",
              "    <tr>\n",
              "      <th>1433</th>\n",
              "      <td>1433</td>\n",
              "      <td>8500</td>\n",
              "      <td>NaN</td>\n",
              "      <td>17016</td>\n",
              "      <td>Petrol</td>\n",
              "      <td>86</td>\n",
              "      <td>0.0</td>\n",
              "      <td>0</td>\n",
              "      <td>1300</td>\n",
              "      <td>3</td>\n",
              "      <td>1015</td>\n",
              "    </tr>\n",
              "    <tr>\n",
              "      <th>1434</th>\n",
              "      <td>1434</td>\n",
              "      <td>7250</td>\n",
              "      <td>70.0</td>\n",
              "      <td>??</td>\n",
              "      <td>NaN</td>\n",
              "      <td>86</td>\n",
              "      <td>1.0</td>\n",
              "      <td>0</td>\n",
              "      <td>1300</td>\n",
              "      <td>3</td>\n",
              "      <td>1015</td>\n",
              "    </tr>\n",
              "    <tr>\n",
              "      <th>1435</th>\n",
              "      <td>1435</td>\n",
              "      <td>6950</td>\n",
              "      <td>76.0</td>\n",
              "      <td>1</td>\n",
              "      <td>Petrol</td>\n",
              "      <td>110</td>\n",
              "      <td>0.0</td>\n",
              "      <td>0</td>\n",
              "      <td>1600</td>\n",
              "      <td>5</td>\n",
              "      <td>1114</td>\n",
              "    </tr>\n",
              "  </tbody>\n",
              "</table>\n",
              "<p>1436 rows × 11 columns</p>\n",
              "</div>"
            ],
            "text/plain": [
              "      Unnamed: 0  Price   Age     KM  ... Automatic    CC  Doors  Weight\n",
              "0              0  13500  23.0  46986  ...         0  2000  three    1165\n",
              "1              1  13750  23.0  72937  ...         0  2000      3    1165\n",
              "2              2  13950  24.0  41711  ...         0  2000      3    1165\n",
              "3              3  14950  26.0  48000  ...         0  2000      3    1165\n",
              "4              4  13750  30.0  38500  ...         0  2000      3    1170\n",
              "...          ...    ...   ...    ...  ...       ...   ...    ...     ...\n",
              "1431        1431   7500   NaN  20544  ...         0  1300      3    1025\n",
              "1432        1432  10845  72.0     ??  ...         0  1300      3    1015\n",
              "1433        1433   8500   NaN  17016  ...         0  1300      3    1015\n",
              "1434        1434   7250  70.0     ??  ...         0  1300      3    1015\n",
              "1435        1435   6950  76.0      1  ...         0  1600      5    1114\n",
              "\n",
              "[1436 rows x 11 columns]"
            ]
          },
          "metadata": {},
          "execution_count": 22
        }
      ]
    },
    {
      "cell_type": "code",
      "metadata": {
        "colab": {
          "base_uri": "https://localhost:8080/"
        },
        "id": "ZEUqPRLehM_a",
        "outputId": "7b807d09-d493-45f4-f2f7-67be811a53b5"
      },
      "source": [
        "data.info()"
      ],
      "execution_count": 25,
      "outputs": [
        {
          "output_type": "stream",
          "text": [
            "<class 'pandas.core.frame.DataFrame'>\n",
            "RangeIndex: 1436 entries, 0 to 1435\n",
            "Data columns (total 11 columns):\n",
            " #   Column      Non-Null Count  Dtype  \n",
            "---  ------      --------------  -----  \n",
            " 0   Unnamed: 0  1436 non-null   int64  \n",
            " 1   Price       1436 non-null   int64  \n",
            " 2   Age         1336 non-null   float64\n",
            " 3   KM          1436 non-null   object \n",
            " 4   FuelType    1336 non-null   object \n",
            " 5   HP          1436 non-null   object \n",
            " 6   MetColor    1286 non-null   float64\n",
            " 7   Automatic   1436 non-null   int64  \n",
            " 8   CC          1436 non-null   int64  \n",
            " 9   Doors       1436 non-null   object \n",
            " 10  Weight      1436 non-null   int64  \n",
            "dtypes: float64(2), int64(5), object(4)\n",
            "memory usage: 123.5+ KB\n"
          ],
          "name": "stdout"
        }
      ]
    },
    {
      "cell_type": "code",
      "metadata": {
        "colab": {
          "base_uri": "https://localhost:8080/",
          "height": 319
        },
        "id": "reKp0q2jEoRr",
        "outputId": "609fb3f9-adc5-45bd-c9e7-8cb8f3f2a409"
      },
      "source": [
        "data.describe()"
      ],
      "execution_count": 42,
      "outputs": [
        {
          "output_type": "execute_result",
          "data": {
            "text/html": [
              "<div>\n",
              "<style scoped>\n",
              "    .dataframe tbody tr th:only-of-type {\n",
              "        vertical-align: middle;\n",
              "    }\n",
              "\n",
              "    .dataframe tbody tr th {\n",
              "        vertical-align: top;\n",
              "    }\n",
              "\n",
              "    .dataframe thead th {\n",
              "        text-align: right;\n",
              "    }\n",
              "</style>\n",
              "<table border=\"1\" class=\"dataframe\">\n",
              "  <thead>\n",
              "    <tr style=\"text-align: right;\">\n",
              "      <th></th>\n",
              "      <th>Unnamed: 0</th>\n",
              "      <th>Price</th>\n",
              "      <th>Age</th>\n",
              "      <th>MetColor</th>\n",
              "      <th>Automatic</th>\n",
              "      <th>CC</th>\n",
              "      <th>Weight</th>\n",
              "    </tr>\n",
              "  </thead>\n",
              "  <tbody>\n",
              "    <tr>\n",
              "      <th>count</th>\n",
              "      <td>1436.000000</td>\n",
              "      <td>1436.000000</td>\n",
              "      <td>1336.000000</td>\n",
              "      <td>1286.000000</td>\n",
              "      <td>1436.000000</td>\n",
              "      <td>1436.000000</td>\n",
              "      <td>1436.00000</td>\n",
              "    </tr>\n",
              "    <tr>\n",
              "      <th>mean</th>\n",
              "      <td>717.500000</td>\n",
              "      <td>10730.824513</td>\n",
              "      <td>55.672156</td>\n",
              "      <td>0.674961</td>\n",
              "      <td>0.055710</td>\n",
              "      <td>1566.827994</td>\n",
              "      <td>1072.45961</td>\n",
              "    </tr>\n",
              "    <tr>\n",
              "      <th>std</th>\n",
              "      <td>414.681806</td>\n",
              "      <td>3626.964585</td>\n",
              "      <td>18.589804</td>\n",
              "      <td>0.468572</td>\n",
              "      <td>0.229441</td>\n",
              "      <td>187.182436</td>\n",
              "      <td>52.64112</td>\n",
              "    </tr>\n",
              "    <tr>\n",
              "      <th>min</th>\n",
              "      <td>0.000000</td>\n",
              "      <td>4350.000000</td>\n",
              "      <td>1.000000</td>\n",
              "      <td>0.000000</td>\n",
              "      <td>0.000000</td>\n",
              "      <td>1300.000000</td>\n",
              "      <td>1000.00000</td>\n",
              "    </tr>\n",
              "    <tr>\n",
              "      <th>25%</th>\n",
              "      <td>358.750000</td>\n",
              "      <td>8450.000000</td>\n",
              "      <td>43.000000</td>\n",
              "      <td>0.000000</td>\n",
              "      <td>0.000000</td>\n",
              "      <td>1400.000000</td>\n",
              "      <td>1040.00000</td>\n",
              "    </tr>\n",
              "    <tr>\n",
              "      <th>50%</th>\n",
              "      <td>717.500000</td>\n",
              "      <td>9900.000000</td>\n",
              "      <td>60.000000</td>\n",
              "      <td>1.000000</td>\n",
              "      <td>0.000000</td>\n",
              "      <td>1600.000000</td>\n",
              "      <td>1070.00000</td>\n",
              "    </tr>\n",
              "    <tr>\n",
              "      <th>75%</th>\n",
              "      <td>1076.250000</td>\n",
              "      <td>11950.000000</td>\n",
              "      <td>70.000000</td>\n",
              "      <td>1.000000</td>\n",
              "      <td>0.000000</td>\n",
              "      <td>1600.000000</td>\n",
              "      <td>1085.00000</td>\n",
              "    </tr>\n",
              "    <tr>\n",
              "      <th>max</th>\n",
              "      <td>1435.000000</td>\n",
              "      <td>32500.000000</td>\n",
              "      <td>80.000000</td>\n",
              "      <td>1.000000</td>\n",
              "      <td>1.000000</td>\n",
              "      <td>2000.000000</td>\n",
              "      <td>1615.00000</td>\n",
              "    </tr>\n",
              "  </tbody>\n",
              "</table>\n",
              "</div>"
            ],
            "text/plain": [
              "        Unnamed: 0         Price  ...           CC      Weight\n",
              "count  1436.000000   1436.000000  ...  1436.000000  1436.00000\n",
              "mean    717.500000  10730.824513  ...  1566.827994  1072.45961\n",
              "std     414.681806   3626.964585  ...   187.182436    52.64112\n",
              "min       0.000000   4350.000000  ...  1300.000000  1000.00000\n",
              "25%     358.750000   8450.000000  ...  1400.000000  1040.00000\n",
              "50%     717.500000   9900.000000  ...  1600.000000  1070.00000\n",
              "75%    1076.250000  11950.000000  ...  1600.000000  1085.00000\n",
              "max    1435.000000  32500.000000  ...  2000.000000  1615.00000\n",
              "\n",
              "[8 rows x 7 columns]"
            ]
          },
          "metadata": {},
          "execution_count": 42
        }
      ]
    },
    {
      "cell_type": "markdown",
      "metadata": {
        "id": "UAMpM49wh2KU"
      },
      "source": [
        "\n",
        "## 1. Handling the missing value\n",
        "\n"
      ]
    },
    {
      "cell_type": "code",
      "metadata": {
        "id": "4L3ioFyfhTWi"
      },
      "source": [
        "from sklearn.impute import SimpleImputer\n",
        "\n",
        "X = data.iloc[:, :-1].values \n",
        "Y = data.iloc[:, -1].values \n",
        "\n",
        "# Dope such a rows with all value=nan\n",
        "data.dropna(how='all',inplace=True) \n",
        "\n",
        "# Datatype :floats\n",
        "imputer = SimpleImputer(missing_values=np.nan,strategy='median')\n",
        "X[:,[2,6]] = imputer.fit_transform(X[:,[2,6]]) #Specifically for 2nd and 6th column  \n",
        " \n",
        "# Specifically for datatype: objects\n",
        "imputer = SimpleImputer(missing_values=np.nan, strategy='most_frequent')\n",
        "X[:,[4,9]] = imputer.fit_transform(X[:,[4,9]])\n"
      ],
      "execution_count": 32,
      "outputs": []
    },
    {
      "cell_type": "markdown",
      "metadata": {
        "id": "a4FLGU9mh9iy"
      },
      "source": [
        "## 2. Data Transformation"
      ]
    },
    {
      "cell_type": "code",
      "metadata": {
        "id": "yBeygOEXKRMg"
      },
      "source": [
        "from sklearn.preprocessing import MinMaxScaler, StandardScaler, Normalizer"
      ],
      "execution_count": 40,
      "outputs": []
    },
    {
      "cell_type": "markdown",
      "metadata": {
        "id": "h_7fLJudh96P"
      },
      "source": [
        "**a. Scaling (Min-Max Normalization)**\n"
      ]
    },
    {
      "cell_type": "code",
      "metadata": {
        "colab": {
          "base_uri": "https://localhost:8080/"
        },
        "id": "8NczHUwNib3H",
        "outputId": "5b036dfa-e3e7-4939-d36c-b89df7d32b66"
      },
      "source": [
        "X_new = X[:,[1,2,6,7,8]] #column with datatype- int or float\n",
        "\n",
        "scaler = MinMaxScaler()\n",
        "X_scaled = scaler.fit_transform(X_new)\n",
        "X_scaled"
      ],
      "execution_count": 34,
      "outputs": [
        {
          "output_type": "execute_result",
          "data": {
            "text/plain": [
              "array([[0.3250444 , 0.27848101, 1.        , 0.        , 1.        ],\n",
              "       [0.3339254 , 0.27848101, 1.        , 0.        , 1.        ],\n",
              "       [0.3410302 , 0.29113924, 1.        , 0.        , 1.        ],\n",
              "       ...,\n",
              "       [0.14742451, 0.74683544, 0.        , 0.        , 0.        ],\n",
              "       [0.10301954, 0.87341772, 1.        , 0.        , 0.        ],\n",
              "       [0.09236234, 0.94936709, 0.        , 0.        , 0.42857143]])"
            ]
          },
          "metadata": {},
          "execution_count": 34
        }
      ]
    },
    {
      "cell_type": "markdown",
      "metadata": {
        "id": "gjX5W0eAh-FP"
      },
      "source": [
        "**b. Mean - Normalization**\n"
      ]
    },
    {
      "cell_type": "code",
      "metadata": {
        "colab": {
          "base_uri": "https://localhost:8080/"
        },
        "id": "Mlr8WCHTitGh",
        "outputId": "41df8a8c-b6e6-4cfc-ff5d-7aeae71044de"
      },
      "source": [
        "scaler = Normalizer()\n",
        "X_scaled = scaler.fit_transform(X_new)\n",
        "X_scaled"
      ],
      "execution_count": 41,
      "outputs": [
        {
          "output_type": "execute_result",
          "data": {
            "text/plain": [
              "array([[9.89202055e-01, 1.68530720e-03, 7.32742263e-05, 0.00000000e+00,\n",
              "        1.46548453e-01],\n",
              "       [9.89585081e-01, 1.65530595e-03, 7.19698241e-05, 0.00000000e+00,\n",
              "        1.43939648e-01],\n",
              "       [9.89876972e-01, 1.70301415e-03, 7.09589227e-05, 0.00000000e+00,\n",
              "        1.41917845e-01],\n",
              "       ...,\n",
              "       [9.88481693e-01, 6.97751783e-03, 0.00000000e+00, 0.00000000e+00,\n",
              "        1.51179553e-01],\n",
              "       [9.84257002e-01, 9.50317106e-03, 1.35759587e-04, 0.00000000e+00,\n",
              "        1.76487463e-01],\n",
              "       [9.74453893e-01, 1.06558987e-02, 0.00000000e+00, 0.00000000e+00,\n",
              "        2.24334709e-01]])"
            ]
          },
          "metadata": {},
          "execution_count": 41
        }
      ]
    },
    {
      "cell_type": "markdown",
      "metadata": {
        "id": "tyB62JgNh-Ro"
      },
      "source": [
        "**c. Standardization (Z score)**"
      ]
    },
    {
      "cell_type": "code",
      "metadata": {
        "colab": {
          "base_uri": "https://localhost:8080/"
        },
        "id": "BQz6XaGXiuAw",
        "outputId": "abdde625-1a38-40fb-ae87-dfcf7ac4e4d1"
      },
      "source": [
        "scaler = StandardScaler()\n",
        "X_scaled =scaler.fit_transform(X_new)\n",
        "X_scaled"
      ],
      "execution_count": 36,
      "outputs": [
        {
          "output_type": "execute_result",
          "data": {
            "text/plain": [
              "array([[ 0.76376268, -1.83615212,  0.64078783, -0.24289308,  2.31497633],\n",
              "       [ 0.83271485, -1.83615212,  0.64078783, -0.24289308,  2.31497633],\n",
              "       [ 0.88787659, -1.78046649,  0.64078783, -0.24289308,  2.31497633],\n",
              "       ...,\n",
              "       [-0.6152808 ,  0.22421608, -1.56057896, -0.24289308, -1.42599356],\n",
              "       [-0.96004167,  0.78107235,  0.64078783, -0.24289308, -1.42599356],\n",
              "       [-1.04278428,  1.11518612, -1.56057896, -0.24289308,  0.17727925]])"
            ]
          },
          "metadata": {},
          "execution_count": 36
        }
      ]
    },
    {
      "cell_type": "markdown",
      "metadata": {
        "id": "FVwHLOykizer"
      },
      "source": [
        "## 3. Handling Categorical Data"
      ]
    },
    {
      "cell_type": "code",
      "metadata": {
        "id": "_FfdC3l3QvyK"
      },
      "source": [
        "from sklearn.preprocessing import LabelEncoder,OneHotEncoder"
      ],
      "execution_count": 43,
      "outputs": []
    },
    {
      "cell_type": "markdown",
      "metadata": {
        "id": "yKeIUKuwi9az"
      },
      "source": [
        "**a. Lable Encoding**"
      ]
    },
    {
      "cell_type": "code",
      "metadata": {
        "id": "8ChB50aTjGIV"
      },
      "source": [
        "le = LabelEncoder()\n",
        "X[ : ,4] = le.fit_transform(X[ : ,4])\n",
        "X[ : ,9] = le.fit_transform(X[ : ,9])\n"
      ],
      "execution_count": 48,
      "outputs": []
    },
    {
      "cell_type": "markdown",
      "metadata": {
        "id": "1QpHXpw3jEhR"
      },
      "source": [
        "**b. One Hot Encoding**"
      ]
    },
    {
      "cell_type": "code",
      "metadata": {
        "id": "UXXW4e6hSghj"
      },
      "source": [
        "# dummy = pd.get_dummies(data['Doors'])\n",
        "# data = data.drop(['Doors',],axis=1)\n",
        "# data = pd.concat([dummy,data],axis=1)\n",
        "# dummy = pd.get_dummies(data['FuelType'])\n",
        "# data = data.drop(['FuelType',],axis=1)\n",
        "# data = pd.concat([dummy,data],axis=1)\n",
        "\n",
        "# print(\"Final\\n\",data.head())"
      ],
      "execution_count": 64,
      "outputs": []
    },
    {
      "cell_type": "code",
      "metadata": {
        "id": "gGODtB8iSiOn"
      },
      "source": [
        ""
      ],
      "execution_count": null,
      "outputs": []
    }
  ]
}