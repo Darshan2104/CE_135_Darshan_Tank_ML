{
  "nbformat": 4,
  "nbformat_minor": 0,
  "metadata": {
    "colab": {
      "name": "Lab_10.ipynb",
      "provenance": [],
      "collapsed_sections": [],
      "authorship_tag": "ABX9TyPAFSO+EXgHu7+QtTq9+3A9",
      "include_colab_link": true
    },
    "kernelspec": {
      "name": "python3",
      "display_name": "Python 3"
    },
    "language_info": {
      "name": "python"
    }
  },
  "cells": [
    {
      "cell_type": "markdown",
      "metadata": {
        "id": "view-in-github",
        "colab_type": "text"
      },
      "source": [
        "<a href=\"https://colab.research.google.com/github/Darshan2104/CE_135_Darshan_Tank_ML/blob/main/Lab_10.ipynb\" target=\"_parent\"><img src=\"https://colab.research.google.com/assets/colab-badge.svg\" alt=\"Open In Colab\"/></a>"
      ]
    },
    {
      "cell_type": "code",
      "metadata": {
        "id": "GnNotAfoPDkq"
      },
      "source": [
        "# Import Libraries\n",
        "import matplotlib.pyplot as plt\n",
        "import numpy as np\n",
        "import pandas as pd\n",
        "\n",
        "import torch\n",
        "import torch.nn as nn\n",
        "from torch.autograd import Variable\n",
        "from torch.utils.data import DataLoader\n",
        "\n",
        "\n",
        "from sklearn.model_selection import train_test_split"
      ],
      "execution_count": 15,
      "outputs": []
    },
    {
      "cell_type": "code",
      "metadata": {
        "colab": {
          "base_uri": "https://localhost:8080/",
          "height": 264
        },
        "id": "TQTmHRIyPEqU",
        "outputId": "aded72a3-af11-4872-9837-31e59b4a8348"
      },
      "source": [
        "from tensorflow.keras.datasets import mnist\n",
        "\n",
        "\n",
        "(features_train, targets_train), (features_test, targets_test) = mnist.load_data()\n",
        "\n",
        "# Convert to float32.\n",
        "\n",
        "features_train, features_test = np.array(features_train, np.float32), np.array(features_test, np.float32)\n",
        "\n",
        "# Flatten images to 1-D vector of 784 features (28*28).\n",
        "num_features=784\n",
        "\n",
        "features_train, features_test = features_train.reshape([-1, num_features]), features_test.reshape([-1, num_features])\n",
        "\n",
        "# Normalize images value from [0, 255] to [0, 1].\n",
        "\n",
        "features_train, features_test = features_train / 255., features_test / 255\n",
        "\n",
        "# create feature and targets tensor for train set. As you remember we need variable to accumulate gradients. \n",
        "#Therefore first we create tensor, then we will create variable\n",
        "featuresTrain = torch.from_numpy(features_train)\n",
        "targetsTrain = torch.from_numpy(targets_train).type(torch.LongTensor) # data type is long\n",
        "\n",
        "# create feature and targets tensor for test set.\n",
        "featuresTest = torch.from_numpy(features_test)\n",
        "targetsTest = torch.from_numpy(targets_test).type(torch.LongTensor) # data type is long\n",
        "\n",
        "# batch_size, epoch and iteration\n",
        "batch_size = 100\n",
        "n_iters = 5000\n",
        "num_epochs = n_iters / (len(features_train) / batch_size)\n",
        "num_epochs = int(num_epochs)\n",
        "\n",
        "# Pytorch train and test sets\n",
        "train = torch.utils.data.TensorDataset(featuresTrain,targetsTrain)\n",
        "test = torch.utils.data.TensorDataset(featuresTest,targetsTest)\n",
        "\n",
        "# data loader\n",
        "train_loader = DataLoader(train, batch_size = batch_size, shuffle = False)\n",
        "test_loader = DataLoader(test, batch_size = batch_size, shuffle = False)\n",
        "\n",
        "# visualize one of the images in data set\n",
        "plt.imshow(featuresTrain[10].reshape(28,28))\n",
        "plt.axis(\"off\")\n",
        "plt.title(str(targetsTrain[10]))\n",
        "plt.savefig('graph.png')\n",
        "plt.show()"
      ],
      "execution_count": 16,
      "outputs": [
        {
          "output_type": "display_data",
          "data": {
            "image/png": "[encoded data removed]",
            "text/plain": [
              "<Figure size 432x288 with 1 Axes>"
            ]
          },
          "metadata": {
            "needs_background": "light"
          }
        }
      ]
    },
    {
      "cell_type": "code",
      "metadata": {
        "id": "GEMN83JbPPU4"
      },
      "source": [
        "# Create ANN Model\n",
        "class ANNModel(nn.Module):\n",
        "    \n",
        "    def __init__(self, input_dim, hidden_dim, output_dim):\n",
        "        super(ANNModel, self).__init__()\n",
        "        self.hidden=nn.Linear(input_dim,hidden_dim)\n",
        "        self.sigmoid=nn.Sigmoid()\n",
        "        self.output=nn.Linear(hidden_dim,output_dim)\n",
        "        self.softmax=nn.Softmax()\n",
        "        \n",
        "    def forward(self, x):\n",
        "        x=self.hidden(x)\n",
        "        x=self.sigmoid(x)\n",
        "        x=self.output(x)\n",
        "        x=self.softmax(x)\n",
        "        \n",
        "        return x\n",
        "        \n",
        "# instantiate ANN\n",
        "input_dim = 28*28\n",
        "hidden_dim = 150 #hidden layer dim is one of the hyper parameter and it should be chosen and tuned. For now I only say 150 there is no reason.\n",
        "output_dim = 10\n",
        "\n",
        "# Create ANN\n",
        "model = ANNModel(input_dim, hidden_dim, output_dim)\n",
        "# Cross Entropy Loss \n",
        "error = nn.CrossEntropyLoss()\n",
        "\n",
        "# SGD Optimizer\n",
        "learning_rate = 0.02\n",
        "optimizer = torch.optim.SGD(model.parameters(), lr=learning_rate)"
      ],
      "execution_count": 17,
      "outputs": []
    },
    {
      "cell_type": "code",
      "metadata": {
        "colab": {
          "base_uri": "https://localhost:8080/"
        },
        "id": "nYXwgdsLPTqu",
        "outputId": "637a9650-f677-430e-efad-7e42fd79082f"
      },
      "source": [
        "# ANN model training\n",
        "count = 0\n",
        "loss_list = []\n",
        "iteration_list = []\n",
        "accuracy_list = []\n",
        "num_epochs=100\n",
        "for epoch in range(num_epochs):\n",
        "    for i, (images, labels) in enumerate(train_loader):\n",
        "\n",
        "        train = Variable(images.view(-1, 28*28))\n",
        "        labels = Variable(labels)\n",
        "        \n",
        "        # Clear gradients\n",
        "        optimizer.zero_grad()\n",
        "        \n",
        "        # Forward propagation\n",
        "        outputs = model(train)\n",
        "        \n",
        "        # Calculate softmax and ross entropy loss\n",
        "        loss = error(outputs, labels)\n",
        "        \n",
        "        # Calculating gradients\n",
        "        loss.backward()\n",
        "        \n",
        "        # Update parameters\n",
        "        optimizer.step()\n",
        "        \n",
        "        count += 1\n",
        "        \n",
        "        if count % 50 == 0:\n",
        "            # Calculate Accuracy         \n",
        "            correct = 0\n",
        "            total = 0\n",
        "            # Predict test dataset\n",
        "            for images, labels in test_loader:\n",
        "\n",
        "                test = Variable(images.view(-1, 28*28))\n",
        "                \n",
        "                # Forward propagation\n",
        "                outputs = model(test)\n",
        "                \n",
        "                # Get predictions from the maximum value\n",
        "                predicted = torch.max(outputs.data, 1)[1]\n",
        "                \n",
        "                # Total number of labels\n",
        "                total += len(labels)\n",
        "\n",
        "                # Total correct predictions\n",
        "                correct += (predicted == labels).sum()\n",
        "            \n",
        "            accuracy = 100 * correct / float(total)\n",
        "            \n",
        "            # store loss and iteration\n",
        "            loss_list.append(loss.data)\n",
        "            iteration_list.append(count)\n",
        "            accuracy_list.append(accuracy)\n",
        "        if count % 500 == 0:\n",
        "            # Print Loss\n",
        "            print('Iteration: {}  Loss: {}  Accuracy: {} %'.format(count, loss.data, accuracy))"
      ],
      "execution_count": 18,
      "outputs": [
        {
          "output_type": "stream",
          "name": "stdout",
          "text": [
            "Iteration: 500  Loss: 2.298553943634033  Accuracy: 11.350000381469727 %\n",
            "Iteration: 1000  Loss: 2.2963716983795166  Accuracy: 11.350000381469727 %\n",
            "Iteration: 1500  Loss: 2.2761034965515137  Accuracy: 11.399999618530273 %\n",
            "Iteration: 2000  Loss: 2.2743916511535645  Accuracy: 19.489999771118164 %\n",
            "Iteration: 2500  Loss: 2.2200701236724854  Accuracy: 21.440000534057617 %\n",
            "Iteration: 3000  Loss: 2.239863872528076  Accuracy: 28.65999984741211 %\n",
            "Iteration: 3500  Loss: 2.1950042247772217  Accuracy: 29.790000915527344 %\n",
            "Iteration: 4000  Loss: 2.165756940841675  Accuracy: 30.170000076293945 %\n",
            "Iteration: 4500  Loss: 2.1131954193115234  Accuracy: 31.84000015258789 %\n",
            "Iteration: 5000  Loss: 2.1173551082611084  Accuracy: 41.060001373291016 %\n",
            "Iteration: 5500  Loss: 2.039090394973755  Accuracy: 46.619998931884766 %\n",
            "Iteration: 6000  Loss: 2.090066432952881  Accuracy: 49.720001220703125 %\n",
            "Iteration: 6500  Loss: 2.046238422393799  Accuracy: 55.0099983215332 %\n",
            "Iteration: 7000  Loss: 2.059570550918579  Accuracy: 56.650001525878906 %\n",
            "Iteration: 7500  Loss: 1.9629735946655273  Accuracy: 57.25 %\n",
            "Iteration: 8000  Loss: 1.935312032699585  Accuracy: 57.560001373291016 %\n",
            "Iteration: 8500  Loss: 1.8779217004776  Accuracy: 57.77000045776367 %\n",
            "Iteration: 9000  Loss: 1.95835280418396  Accuracy: 57.90999984741211 %\n",
            "Iteration: 9500  Loss: 1.9412800073623657  Accuracy: 58.029998779296875 %\n",
            "Iteration: 10000  Loss: 2.0119528770446777  Accuracy: 58.18000030517578 %\n",
            "Iteration: 10500  Loss: 1.9004240036010742  Accuracy: 58.27000045776367 %\n",
            "Iteration: 11000  Loss: 1.8870644569396973  Accuracy: 58.38999938964844 %\n",
            "Iteration: 11500  Loss: 1.8500230312347412  Accuracy: 58.41999816894531 %\n",
            "Iteration: 12000  Loss: 1.924592137336731  Accuracy: 58.4900016784668 %\n",
            "Iteration: 12500  Loss: 1.9110510349273682  Accuracy: 58.540000915527344 %\n",
            "Iteration: 13000  Loss: 1.9963040351867676  Accuracy: 58.560001373291016 %\n",
            "Iteration: 13500  Loss: 1.882638692855835  Accuracy: 58.61000061035156 %\n",
            "Iteration: 14000  Loss: 1.8746050596237183  Accuracy: 61.56999969482422 %\n",
            "Iteration: 14500  Loss: 1.8219211101531982  Accuracy: 63.25 %\n",
            "Iteration: 15000  Loss: 1.9077190160751343  Accuracy: 64.16000366210938 %\n",
            "Iteration: 15500  Loss: 1.851151466369629  Accuracy: 64.69000244140625 %\n",
            "Iteration: 16000  Loss: 1.9537725448608398  Accuracy: 65.36000061035156 %\n",
            "Iteration: 16500  Loss: 1.871579885482788  Accuracy: 66.08000183105469 %\n",
            "Iteration: 17000  Loss: 1.8313729763031006  Accuracy: 66.25 %\n",
            "Iteration: 17500  Loss: 1.7908668518066406  Accuracy: 66.61000061035156 %\n",
            "Iteration: 18000  Loss: 1.8600693941116333  Accuracy: 66.7699966430664 %\n",
            "Iteration: 18500  Loss: 1.8054476976394653  Accuracy: 66.95999908447266 %\n",
            "Iteration: 19000  Loss: 1.9185876846313477  Accuracy: 68.0 %\n",
            "Iteration: 19500  Loss: 1.8390154838562012  Accuracy: 71.44000244140625 %\n",
            "Iteration: 20000  Loss: 1.7927252054214478  Accuracy: 72.30000305175781 %\n",
            "Iteration: 20500  Loss: 1.7312928438186646  Accuracy: 72.87999725341797 %\n",
            "Iteration: 21000  Loss: 1.7954574823379517  Accuracy: 73.38999938964844 %\n",
            "Iteration: 21500  Loss: 1.7677923440933228  Accuracy: 73.80999755859375 %\n",
            "Iteration: 22000  Loss: 1.8724802732467651  Accuracy: 74.0199966430664 %\n",
            "Iteration: 22500  Loss: 1.8083664178848267  Accuracy: 74.37000274658203 %\n",
            "Iteration: 23000  Loss: 1.7609869241714478  Accuracy: 74.44999694824219 %\n",
            "Iteration: 23500  Loss: 1.6934564113616943  Accuracy: 74.62000274658203 %\n",
            "Iteration: 24000  Loss: 1.7534613609313965  Accuracy: 74.73999786376953 %\n",
            "Iteration: 24500  Loss: 1.7417155504226685  Accuracy: 74.94000244140625 %\n",
            "Iteration: 25000  Loss: 1.847580909729004  Accuracy: 75.0 %\n",
            "Iteration: 25500  Loss: 1.7893586158752441  Accuracy: 75.16999816894531 %\n",
            "Iteration: 26000  Loss: 1.7442214488983154  Accuracy: 75.20999908447266 %\n",
            "Iteration: 26500  Loss: 1.6750729084014893  Accuracy: 75.33999633789062 %\n",
            "Iteration: 27000  Loss: 1.7340116500854492  Accuracy: 75.44000244140625 %\n",
            "Iteration: 27500  Loss: 1.7300807237625122  Accuracy: 75.47000122070312 %\n",
            "Iteration: 28000  Loss: 1.834335446357727  Accuracy: 75.5 %\n",
            "Iteration: 28500  Loss: 1.7792903184890747  Accuracy: 75.56999969482422 %\n",
            "Iteration: 29000  Loss: 1.7345417737960815  Accuracy: 75.52999877929688 %\n",
            "Iteration: 29500  Loss: 1.6657078266143799  Accuracy: 75.66000366210938 %\n",
            "Iteration: 30000  Loss: 1.7243324518203735  Accuracy: 75.68000030517578 %\n",
            "Iteration: 30500  Loss: 1.7235950231552124  Accuracy: 75.66999816894531 %\n",
            "Iteration: 31000  Loss: 1.8262196779251099  Accuracy: 75.69000244140625 %\n",
            "Iteration: 31500  Loss: 1.773200511932373  Accuracy: 75.72000122070312 %\n",
            "Iteration: 32000  Loss: 1.72834050655365  Accuracy: 75.73999786376953 %\n",
            "Iteration: 32500  Loss: 1.6601877212524414  Accuracy: 75.79000091552734 %\n",
            "Iteration: 33000  Loss: 1.7187081575393677  Accuracy: 75.83000183105469 %\n",
            "Iteration: 33500  Loss: 1.71927809715271  Accuracy: 75.77999877929688 %\n",
            "Iteration: 34000  Loss: 1.8205698728561401  Accuracy: 75.77999877929688 %\n",
            "Iteration: 34500  Loss: 1.7689971923828125  Accuracy: 75.83999633789062 %\n",
            "Iteration: 35000  Loss: 1.724062204360962  Accuracy: 75.8499984741211 %\n",
            "Iteration: 35500  Loss: 1.6565160751342773  Accuracy: 75.86000061035156 %\n",
            "Iteration: 36000  Loss: 1.7150019407272339  Accuracy: 75.88999938964844 %\n",
            "Iteration: 36500  Loss: 1.7160838842391968  Accuracy: 75.87000274658203 %\n",
            "Iteration: 37000  Loss: 1.8162779808044434  Accuracy: 75.81999969482422 %\n",
            "Iteration: 37500  Loss: 1.7657971382141113  Accuracy: 75.87999725341797 %\n",
            "Iteration: 38000  Loss: 1.7209439277648926  Accuracy: 75.87999725341797 %\n",
            "Iteration: 38500  Loss: 1.6538615226745605  Accuracy: 75.9800033569336 %\n",
            "Iteration: 39000  Loss: 1.7123136520385742  Accuracy: 75.9800033569336 %\n",
            "Iteration: 39500  Loss: 1.713576078414917  Accuracy: 76.0199966430664 %\n",
            "Iteration: 40000  Loss: 1.8128303289413452  Accuracy: 76.04000091552734 %\n",
            "Iteration: 40500  Loss: 1.7631862163543701  Accuracy: 76.08999633789062 %\n",
            "Iteration: 41000  Loss: 1.7185722589492798  Accuracy: 76.08999633789062 %\n",
            "Iteration: 41500  Loss: 1.6518282890319824  Accuracy: 76.12999725341797 %\n",
            "Iteration: 42000  Loss: 1.710208773612976  Accuracy: 76.13999938964844 %\n",
            "Iteration: 42500  Loss: 1.7115408182144165  Accuracy: 76.19000244140625 %\n",
            "Iteration: 43000  Loss: 1.8099652528762817  Accuracy: 76.18000030517578 %\n",
            "Iteration: 43500  Loss: 1.7609524726867676  Accuracy: 76.19000244140625 %\n",
            "Iteration: 44000  Loss: 1.716706395149231  Accuracy: 76.23999786376953 %\n",
            "Iteration: 44500  Loss: 1.6502015590667725  Accuracy: 76.23999786376953 %\n",
            "Iteration: 45000  Loss: 1.7084559202194214  Accuracy: 76.27999877929688 %\n",
            "Iteration: 45500  Loss: 1.7098541259765625  Accuracy: 76.30000305175781 %\n",
            "Iteration: 46000  Loss: 1.8075343370437622  Accuracy: 76.3499984741211 %\n",
            "Iteration: 46500  Loss: 1.7589796781539917  Accuracy: 76.33999633789062 %\n",
            "Iteration: 47000  Loss: 1.7151985168457031  Accuracy: 76.4000015258789 %\n",
            "Iteration: 47500  Loss: 1.6488542556762695  Accuracy: 76.41000366210938 %\n",
            "Iteration: 48000  Loss: 1.7069188356399536  Accuracy: 76.4000015258789 %\n",
            "Iteration: 48500  Loss: 1.7084338665008545  Accuracy: 76.43000030517578 %\n",
            "Iteration: 49000  Loss: 1.8054423332214355  Accuracy: 76.47000122070312 %\n",
            "Iteration: 49500  Loss: 1.7571959495544434  Accuracy: 76.5 %\n",
            "Iteration: 50000  Loss: 1.7139549255371094  Accuracy: 76.51000213623047 %\n",
            "Iteration: 50500  Loss: 1.647702932357788  Accuracy: 76.55000305175781 %\n",
            "Iteration: 51000  Loss: 1.7055082321166992  Accuracy: 76.51000213623047 %\n",
            "Iteration: 51500  Loss: 1.7072207927703857  Accuracy: 76.56999969482422 %\n",
            "Iteration: 52000  Loss: 1.8036203384399414  Accuracy: 76.58000183105469 %\n",
            "Iteration: 52500  Loss: 1.7555509805679321  Accuracy: 76.61000061035156 %\n",
            "Iteration: 53000  Loss: 1.7129136323928833  Accuracy: 76.58999633789062 %\n",
            "Iteration: 53500  Loss: 1.6466869115829468  Accuracy: 76.6500015258789 %\n",
            "Iteration: 54000  Loss: 1.704154372215271  Accuracy: 76.62000274658203 %\n",
            "Iteration: 54500  Loss: 1.706170678138733  Accuracy: 76.61000061035156 %\n",
            "Iteration: 55000  Loss: 1.802005648612976  Accuracy: 76.62000274658203 %\n",
            "Iteration: 55500  Loss: 1.753997802734375  Accuracy: 76.66000366210938 %\n",
            "Iteration: 56000  Loss: 1.7120354175567627  Accuracy: 76.63999938964844 %\n",
            "Iteration: 56500  Loss: 1.6457513570785522  Accuracy: 76.66000366210938 %\n",
            "Iteration: 57000  Loss: 1.7027758359909058  Accuracy: 76.6500015258789 %\n",
            "Iteration: 57500  Loss: 1.705247163772583  Accuracy: 76.66999816894531 %\n",
            "Iteration: 58000  Loss: 1.800523281097412  Accuracy: 76.68000030517578 %\n",
            "Iteration: 58500  Loss: 1.7524657249450684  Accuracy: 76.69000244140625 %\n",
            "Iteration: 59000  Loss: 1.711300253868103  Accuracy: 76.68000030517578 %\n",
            "Iteration: 59500  Loss: 1.6448147296905518  Accuracy: 76.66999816894531 %\n",
            "Iteration: 60000  Loss: 1.7012028694152832  Accuracy: 76.69999694824219 %\n"
          ]
        }
      ]
    },
    {
      "cell_type": "code",
      "metadata": {
        "colab": {
          "base_uri": "https://localhost:8080/",
          "height": 573
        },
        "id": "01bRphU2PXzA",
        "outputId": "f40c6ae9-ac43-402c-dd5a-7032e1b2ab67"
      },
      "source": [
        "# visualization loss \n",
        "plt.plot(iteration_list,loss_list)\n",
        "plt.xlabel(\"Number of iteration\")\n",
        "plt.ylabel(\"Loss\")\n",
        "plt.title(\"ANN: Loss vs Number of iteration\")\n",
        "plt.show()\n",
        "\n",
        "# visualization accuracy \n",
        "plt.plot(iteration_list,accuracy_list,color = \"red\")\n",
        "plt.xlabel(\"Number of iteration\")\n",
        "plt.ylabel(\"Accuracy\")\n",
        "plt.title(\"ANN: Accuracy vs Number of iteration\")\n",
        "plt.show()"
      ],
      "execution_count": 19,
      "outputs": [
        {
          "output_type": "display_data",
          "data": {
            "image/png": "[encoded data removed]",
            "text/plain": [
              "<Figure size 432x288 with 1 Axes>"
            ]
          },
          "metadata": {
            "needs_background": "light"
          }
        },
        {
          "output_type": "display_data",
          "data": {
            "image/png": "[encoded data removed]",
            "text/plain": [
              "<Figure size 432x288 with 1 Axes>"
            ]
          },
          "metadata": {
            "needs_background": "light"
          }
        }
      ]
    },
    {
      "cell_type": "code",
      "metadata": {
        "id": "5QQiUh1vPdN2"
      },
      "source": [
        "from tensorflow.keras.datasets import mnist\n",
        "\n",
        "\n",
        "(features_train, targets_train), (features_test, targets_test) = mnist.load_data()\n",
        "\n",
        "# Convert to float32.\n",
        "\n",
        "features_train, features_test = np.array(features_train, np.float32), np.array(features_test, np.float32)\n",
        "\n",
        "# Normalize images value from [0, 255] to [0, 1].\n",
        "\n",
        "features_train, features_test = features_train / 255., features_test / 255\n",
        "\n",
        "# create feature and targets tensor for train set. As you remember we need variable to accumulate gradients. \n",
        "#Therefore first we create tensor, then we will create variable\n",
        "featuresTrain = torch.from_numpy(features_train)\n",
        "targetsTrain = torch.from_numpy(targets_train).type(torch.LongTensor) # data type is long\n",
        "\n",
        "# create feature and targets tensor for test set.\n",
        "featuresTest = torch.from_numpy(features_test)\n",
        "targetsTest = torch.from_numpy(targets_test).type(torch.LongTensor) # data type"
      ],
      "execution_count": 20,
      "outputs": []
    },
    {
      "cell_type": "code",
      "metadata": {
        "id": "mD65IEI6PiQY"
      },
      "source": [
        "# Create CNN Model\n",
        "class CNNModel(nn.Module):\n",
        "    def __init__(self):\n",
        "        super(CNNModel, self).__init__()\n",
        "\n",
        "      ######################################################################       \n",
        "      #### DESIGN LAYERS :\n",
        "      ### SEQUENCE: CONV1,ACTIVATION1,POOLING1,  CONV2,ACTIVATION2,POOLING2, LINEAR(FC)\n",
        "        self.conv1=nn.Conv2d(in_channels=1,out_channels=16,kernel_size=5,stride=1,padding=2)\n",
        "        self.act1=nn.ReLU()\n",
        "        self.pool1=nn.MaxPool2d(kernel_size=2)\n",
        "        \n",
        "        self.conv2=nn.Conv2d(16,32,5,1,2)\n",
        "        self.act2=nn.ReLU()\n",
        "        self.pool2=nn.MaxPool2d(kernel_size=2)\n",
        "        \n",
        "        self.linear=nn.Linear(32*7*7,10)\n",
        "        \n",
        "        \n",
        "        \n",
        "    def forward(self,x):\n",
        "       # COMBINE LAYERS\n",
        "       ## 1) CONV1\n",
        "        x=self.conv1(x)\n",
        "       ## 2) ACTIVATION1\n",
        "        x=self.act1(x)\n",
        "       ## 3) POOLING1\n",
        "        x=self.pool1(x)\n",
        "       ## 4) CONV2\n",
        "        x=self.conv2(x)\n",
        "       ## 5) ACTIVATION2\n",
        "        x=self.act2(x)\n",
        "       ## 6) POOLING2\n",
        "        x=self.pool2(x)\n",
        "       ## 7) flatten ########## DURING LAB WE JUST FORGOT FOLLOWING FLATTEN LAYER ###############\n",
        "        x = x.view(x.size(0), -1)\n",
        "\n",
        "       ## 8) LINEAR(FC)\n",
        "        x=self.linear(x)\n",
        "        \n",
        "        return x\n",
        "# batch_size, epoch and iteration\n",
        "batch_size = 100\n",
        "n_iters = 2500\n",
        "num_epochs = n_iters / (len(features_train) / batch_size)\n",
        "num_epochs = int(num_epochs)\n",
        "\n",
        "# Pytorch train and test sets\n",
        "train = torch.utils.data.TensorDataset(featuresTrain,targetsTrain)\n",
        "test = torch.utils.data.TensorDataset(featuresTest,targetsTest)\n",
        "\n",
        "# data loader\n",
        "train_loader = torch.utils.data.DataLoader(train, batch_size = batch_size, shuffle = False)\n",
        "test_loader = torch.utils.data.DataLoader(test, batch_size = batch_size, shuffle = False)\n",
        "    \n",
        "# Create CNN\n",
        "model = CNNModel()\n",
        "\n",
        "# Cross Entropy Loss \n",
        "error = nn.CrossEntropyLoss()\n",
        "\n",
        "# SGD Optimizer\n",
        "learning_rate = 0.1\n",
        "optimizer = torch.optim.SGD(model.parameters(), lr=learning_rate)"
      ],
      "execution_count": 21,
      "outputs": []
    },
    {
      "cell_type": "code",
      "metadata": {
        "colab": {
          "base_uri": "https://localhost:8080/"
        },
        "id": "Wqbm1mB_PiOv",
        "outputId": "d8a4d9e4-861c-4bea-8a6e-9ff2b9a5bbee"
      },
      "source": [
        "# CNN model training\n",
        "count = 0\n",
        "loss_list = []\n",
        "iteration_list = []\n",
        "accuracy_list = []\n",
        "for epoch in range(num_epochs):\n",
        "    for i, (images, labels) in enumerate(train_loader):\n",
        "        \n",
        "        train = Variable(images.view(100,1,28,28))\n",
        "        labels = Variable(labels)\n",
        "        \n",
        "        # Clear gradients\n",
        "        optimizer.zero_grad()\n",
        "        # Forward propagation\n",
        "        outputs = model(train)\n",
        "        \n",
        "        # Calculate softmax and ross entropy loss\n",
        "        loss = error(outputs, labels)\n",
        "        \n",
        "        # Calculating gradients\n",
        "        loss.backward()\n",
        "        \n",
        "        # Update parameters\n",
        "        optimizer.step()\n",
        "        \n",
        "        count += 1\n",
        "        \n",
        "        if count % 50 == 0:\n",
        "            # Calculate Accuracy         \n",
        "            correct = 0\n",
        "            total = 0\n",
        "            # Iterate through test dataset\n",
        "            for images, labels in test_loader:\n",
        "                \n",
        "                test = Variable(images.view(100,1,28,28))\n",
        "                \n",
        "                # Forward propagation\n",
        "                outputs = model(test)\n",
        "                \n",
        "                # Get predictions from the maximum value\n",
        "                predicted = torch.max(outputs.data, 1)[1]\n",
        "                \n",
        "                # Total number of labels\n",
        "                total += len(labels)\n",
        "                \n",
        "                correct += (predicted == labels).sum()\n",
        "            \n",
        "            accuracy = 100 * correct / float(total)\n",
        "            \n",
        "            # store loss and iteration\n",
        "            loss_list.append(loss.data)\n",
        "            iteration_list.append(count)\n",
        "            accuracy_list.append(accuracy)\n",
        "        if count % 500 == 0:\n",
        "            # Print Loss\n",
        "            print('Iteration: {}  Loss: {}  Accuracy: {} %'.format(count, loss.data, accuracy))"
      ],
      "execution_count": 22,
      "outputs": [
        {
          "output_type": "stream",
          "name": "stdout",
          "text": [
            "Iteration: 500  Loss: 0.14721286296844482  Accuracy: 96.83999633789062 %\n",
            "Iteration: 1000  Loss: 0.058344531804323196  Accuracy: 98.02999877929688 %\n",
            "Iteration: 1500  Loss: 0.03718453273177147  Accuracy: 98.16000366210938 %\n",
            "Iteration: 2000  Loss: 0.014843529090285301  Accuracy: 98.44000244140625 %\n"
          ]
        }
      ]
    },
    {
      "cell_type": "code",
      "metadata": {
        "colab": {
          "base_uri": "https://localhost:8080/",
          "height": 573
        },
        "id": "DOxT6pMiPtaV",
        "outputId": "58de238a-eb28-45ae-e52f-2f4a2567f282"
      },
      "source": [
        "# visualization loss \n",
        "plt.plot(iteration_list,loss_list)\n",
        "plt.xlabel(\"Number of iteration\")\n",
        "plt.ylabel(\"Loss\")\n",
        "plt.title(\"CNN: Loss vs Number of iteration\")\n",
        "plt.show()\n",
        "\n",
        "# visualization accuracy \n",
        "plt.plot(iteration_list,accuracy_list,color = \"red\")\n",
        "plt.xlabel(\"Number of iteration\")\n",
        "plt.ylabel(\"Accuracy\")\n",
        "plt.title(\"CNN: Accuracy vs Number of iteration\")\n",
        "plt.show()"
      ],
      "execution_count": 9,
      "outputs": [
        {
          "output_type": "display_data",
          "data": {
            "image/png": "[encoded data removed]",
            "text/plain": [
              "<Figure size 432x288 with 1 Axes>"
            ]
          },
          "metadata": {
            "needs_background": "light"
          }
        },
        {
          "output_type": "display_data",
          "data": {
            "image/png": "[encoded data removed]",
            "text/plain": [
              "<Figure size 432x288 with 1 Axes>"
            ]
          },
          "metadata": {
            "needs_background": "light"
          }
        }
      ]
    },
    {
      "cell_type": "markdown",
      "metadata": {
        "id": "eebdozJVP1KB"
      },
      "source": [
        "Try CNN on \"Fruit\" dataset. Also modify number of layers and observe the performance difference:\n",
        "https://www.kaggle.com/moltean/fruits\n",
        "\n",
        "Or (In a case if you don't have that much dataPack available, download 20 images of apple and 20 images of orange from the internet and work on it with RANDOM state=Rollnumber stratergy, 80-20% training-testing division)"
      ]
    },
    {
      "cell_type": "code",
      "metadata": {
        "id": "-_Z_v8bTPw5u"
      },
      "source": [
        "import os\n",
        "import torch\n",
        "import torchvision\n",
        "import tarfile\n",
        "import torch.nn as nn\n",
        "import numpy as np\n",
        "import torch.nn.functional as F\n",
        "from torchvision.datasets.utils import download_url\n",
        "from torchvision.datasets import ImageFolder\n",
        "from torch.utils.data import DataLoader\n",
        "from torchvision.transforms import ToTensor\n",
        "import torchvision.transforms as tt\n",
        "from torch.utils.data import random_split\n",
        "from torchvision.utils import make_grid\n",
        "import matplotlib\n",
        "import matplotlib.pyplot as plt\n",
        "%matplotlib inline\n",
        "\n",
        "import warnings\n",
        "import random"
      ],
      "execution_count": 30,
      "outputs": []
    },
    {
      "cell_type": "code",
      "metadata": {
        "id": "YCdOQZJMP-w_"
      },
      "source": [
        "warnings.filterwarnings(\"ignore\")"
      ],
      "execution_count": 31,
      "outputs": []
    },
    {
      "cell_type": "code",
      "metadata": {
        "id": "BNZQhi7FTS8K"
      },
      "source": [
        "data_dir='dataset'"
      ],
      "execution_count": 32,
      "outputs": []
    },
    {
      "cell_type": "code",
      "metadata": {
        "colab": {
          "base_uri": "https://localhost:8080/",
          "height": 374
        },
        "id": "2bx3WRPCP-u9",
        "outputId": "8cfb501e-92e2-4734-a837-764bb4938f6c"
      },
      "source": [
        "# Data transforms (data augmentation)\n",
        "train_tfms = tt.Compose([ \n",
        "                         tt.Resize((100,100)),\n",
        "                         tt.RandomHorizontalFlip(), \n",
        "                         tt.ToTensor(), \n",
        "\n",
        "                         ])\n",
        "valid_tfms = tt.Compose([tt.ToTensor(), tt.Resize((100,100)),\n",
        "                         ])\n",
        "\n",
        "train_dataset = ImageFolder(data_dir + \"/train\", transform=train_tfms)\n",
        "val_dataset = ImageFolder(data_dir + \"/val\", transform=valid_tfms)\n",
        "test_dataset = ImageFolder(data_dir + \"/test\", transform=valid_tfms)"
      ],
      "execution_count": 33,
      "outputs": [
        {
          "output_type": "error",
          "ename": "FileNotFoundError",
          "evalue": "ignored",
          "traceback": [
            "\u001b[0;31m---------------------------------------------------------------------------\u001b[0m",
            "\u001b[0;31mFileNotFoundError\u001b[0m                         Traceback (most recent call last)",
            "\u001b[0;32m<ipython-input-33-cdf652ff1711>\u001b[0m in \u001b[0;36m<module>\u001b[0;34m()\u001b[0m\n\u001b[1;32m      9\u001b[0m                          ])\n\u001b[1;32m     10\u001b[0m \u001b[0;34m\u001b[0m\u001b[0m\n\u001b[0;32m---> 11\u001b[0;31m \u001b[0mtrain_dataset\u001b[0m \u001b[0;34m=\u001b[0m \u001b[0mImageFolder\u001b[0m\u001b[0;34m(\u001b[0m\u001b[0mdata_dir\u001b[0m \u001b[0;34m+\u001b[0m \u001b[0;34m\"/train\"\u001b[0m\u001b[0;34m,\u001b[0m \u001b[0mtransform\u001b[0m\u001b[0;34m=\u001b[0m\u001b[0mtrain_tfms\u001b[0m\u001b[0;34m)\u001b[0m\u001b[0;34m\u001b[0m\u001b[0;34m\u001b[0m\u001b[0m\n\u001b[0m\u001b[1;32m     12\u001b[0m \u001b[0mval_dataset\u001b[0m \u001b[0;34m=\u001b[0m \u001b[0mImageFolder\u001b[0m\u001b[0;34m(\u001b[0m\u001b[0mdata_dir\u001b[0m \u001b[0;34m+\u001b[0m \u001b[0;34m\"/val\"\u001b[0m\u001b[0;34m,\u001b[0m \u001b[0mtransform\u001b[0m\u001b[0;34m=\u001b[0m\u001b[0mvalid_tfms\u001b[0m\u001b[0;34m)\u001b[0m\u001b[0;34m\u001b[0m\u001b[0;34m\u001b[0m\u001b[0m\n\u001b[1;32m     13\u001b[0m \u001b[0mtest_dataset\u001b[0m \u001b[0;34m=\u001b[0m \u001b[0mImageFolder\u001b[0m\u001b[0;34m(\u001b[0m\u001b[0mdata_dir\u001b[0m \u001b[0;34m+\u001b[0m \u001b[0;34m\"/test\"\u001b[0m\u001b[0;34m,\u001b[0m \u001b[0mtransform\u001b[0m\u001b[0;34m=\u001b[0m\u001b[0mvalid_tfms\u001b[0m\u001b[0;34m)\u001b[0m\u001b[0;34m\u001b[0m\u001b[0;34m\u001b[0m\u001b[0m\n",
            "\u001b[0;32m/usr/local/lib/python3.7/dist-packages/torchvision/datasets/folder.py\u001b[0m in \u001b[0;36m__init__\u001b[0;34m(self, root, transform, target_transform, loader, is_valid_file)\u001b[0m\n\u001b[1;32m    311\u001b[0m                                           \u001b[0mtransform\u001b[0m\u001b[0;34m=\u001b[0m\u001b[0mtransform\u001b[0m\u001b[0;34m,\u001b[0m\u001b[0;34m\u001b[0m\u001b[0;34m\u001b[0m\u001b[0m\n\u001b[1;32m    312\u001b[0m                                           \u001b[0mtarget_transform\u001b[0m\u001b[0;34m=\u001b[0m\u001b[0mtarget_transform\u001b[0m\u001b[0;34m,\u001b[0m\u001b[0;34m\u001b[0m\u001b[0;34m\u001b[0m\u001b[0m\n\u001b[0;32m--> 313\u001b[0;31m                                           is_valid_file=is_valid_file)\n\u001b[0m\u001b[1;32m    314\u001b[0m         \u001b[0mself\u001b[0m\u001b[0;34m.\u001b[0m\u001b[0mimgs\u001b[0m \u001b[0;34m=\u001b[0m \u001b[0mself\u001b[0m\u001b[0;34m.\u001b[0m\u001b[0msamples\u001b[0m\u001b[0;34m\u001b[0m\u001b[0;34m\u001b[0m\u001b[0m\n",
            "\u001b[0;32m/usr/local/lib/python3.7/dist-packages/torchvision/datasets/folder.py\u001b[0m in \u001b[0;36m__init__\u001b[0;34m(self, root, loader, extensions, transform, target_transform, is_valid_file)\u001b[0m\n\u001b[1;32m    143\u001b[0m         super(DatasetFolder, self).__init__(root, transform=transform,\n\u001b[1;32m    144\u001b[0m                                             target_transform=target_transform)\n\u001b[0;32m--> 145\u001b[0;31m         \u001b[0mclasses\u001b[0m\u001b[0;34m,\u001b[0m \u001b[0mclass_to_idx\u001b[0m \u001b[0;34m=\u001b[0m \u001b[0mself\u001b[0m\u001b[0;34m.\u001b[0m\u001b[0mfind_classes\u001b[0m\u001b[0;34m(\u001b[0m\u001b[0mself\u001b[0m\u001b[0;34m.\u001b[0m\u001b[0mroot\u001b[0m\u001b[0;34m)\u001b[0m\u001b[0;34m\u001b[0m\u001b[0;34m\u001b[0m\u001b[0m\n\u001b[0m\u001b[1;32m    146\u001b[0m         \u001b[0msamples\u001b[0m \u001b[0;34m=\u001b[0m \u001b[0mself\u001b[0m\u001b[0;34m.\u001b[0m\u001b[0mmake_dataset\u001b[0m\u001b[0;34m(\u001b[0m\u001b[0mself\u001b[0m\u001b[0;34m.\u001b[0m\u001b[0mroot\u001b[0m\u001b[0;34m,\u001b[0m \u001b[0mclass_to_idx\u001b[0m\u001b[0;34m,\u001b[0m \u001b[0mextensions\u001b[0m\u001b[0;34m,\u001b[0m \u001b[0mis_valid_file\u001b[0m\u001b[0;34m)\u001b[0m\u001b[0;34m\u001b[0m\u001b[0;34m\u001b[0m\u001b[0m\n\u001b[1;32m    147\u001b[0m \u001b[0;34m\u001b[0m\u001b[0m\n",
            "\u001b[0;32m/usr/local/lib/python3.7/dist-packages/torchvision/datasets/folder.py\u001b[0m in \u001b[0;36mfind_classes\u001b[0;34m(self, directory)\u001b[0m\n\u001b[1;32m    219\u001b[0m             \u001b[0;34m(\u001b[0m\u001b[0mTuple\u001b[0m\u001b[0;34m[\u001b[0m\u001b[0mList\u001b[0m\u001b[0;34m[\u001b[0m\u001b[0mstr\u001b[0m\u001b[0;34m]\u001b[0m\u001b[0;34m,\u001b[0m \u001b[0mDict\u001b[0m\u001b[0;34m[\u001b[0m\u001b[0mstr\u001b[0m\u001b[0;34m,\u001b[0m \u001b[0mint\u001b[0m\u001b[0;34m]\u001b[0m\u001b[0;34m]\u001b[0m\u001b[0;34m)\u001b[0m\u001b[0;34m:\u001b[0m \u001b[0mList\u001b[0m \u001b[0mof\u001b[0m \u001b[0mall\u001b[0m \u001b[0mclasses\u001b[0m \u001b[0;32mand\u001b[0m \u001b[0mdictionary\u001b[0m \u001b[0mmapping\u001b[0m \u001b[0meach\u001b[0m \u001b[0;32mclass\u001b[0m \u001b[0mto\u001b[0m \u001b[0man\u001b[0m \u001b[0mindex\u001b[0m\u001b[0;34m.\u001b[0m\u001b[0;34m\u001b[0m\u001b[0;34m\u001b[0m\u001b[0m\n\u001b[1;32m    220\u001b[0m         \"\"\"\n\u001b[0;32m--> 221\u001b[0;31m         \u001b[0;32mreturn\u001b[0m \u001b[0mfind_classes\u001b[0m\u001b[0;34m(\u001b[0m\u001b[0mdirectory\u001b[0m\u001b[0;34m)\u001b[0m\u001b[0;34m\u001b[0m\u001b[0;34m\u001b[0m\u001b[0m\n\u001b[0m\u001b[1;32m    222\u001b[0m \u001b[0;34m\u001b[0m\u001b[0m\n\u001b[1;32m    223\u001b[0m     \u001b[0;32mdef\u001b[0m \u001b[0m__getitem__\u001b[0m\u001b[0;34m(\u001b[0m\u001b[0mself\u001b[0m\u001b[0;34m,\u001b[0m \u001b[0mindex\u001b[0m\u001b[0;34m:\u001b[0m \u001b[0mint\u001b[0m\u001b[0;34m)\u001b[0m \u001b[0;34m->\u001b[0m \u001b[0mTuple\u001b[0m\u001b[0;34m[\u001b[0m\u001b[0mAny\u001b[0m\u001b[0;34m,\u001b[0m \u001b[0mAny\u001b[0m\u001b[0;34m]\u001b[0m\u001b[0;34m:\u001b[0m\u001b[0;34m\u001b[0m\u001b[0;34m\u001b[0m\u001b[0m\n",
            "\u001b[0;32m/usr/local/lib/python3.7/dist-packages/torchvision/datasets/folder.py\u001b[0m in \u001b[0;36mfind_classes\u001b[0;34m(directory)\u001b[0m\n\u001b[1;32m     38\u001b[0m     \u001b[0mSee\u001b[0m \u001b[0;34m:\u001b[0m\u001b[0;32mclass\u001b[0m\u001b[0;34m:\u001b[0m\u001b[0;31m`\u001b[0m\u001b[0mDatasetFolder\u001b[0m\u001b[0;31m`\u001b[0m \u001b[0;32mfor\u001b[0m \u001b[0mdetails\u001b[0m\u001b[0;34m.\u001b[0m\u001b[0;34m\u001b[0m\u001b[0;34m\u001b[0m\u001b[0m\n\u001b[1;32m     39\u001b[0m     \"\"\"\n\u001b[0;32m---> 40\u001b[0;31m     \u001b[0mclasses\u001b[0m \u001b[0;34m=\u001b[0m \u001b[0msorted\u001b[0m\u001b[0;34m(\u001b[0m\u001b[0mentry\u001b[0m\u001b[0;34m.\u001b[0m\u001b[0mname\u001b[0m \u001b[0;32mfor\u001b[0m \u001b[0mentry\u001b[0m \u001b[0;32min\u001b[0m \u001b[0mos\u001b[0m\u001b[0;34m.\u001b[0m\u001b[0mscandir\u001b[0m\u001b[0;34m(\u001b[0m\u001b[0mdirectory\u001b[0m\u001b[0;34m)\u001b[0m \u001b[0;32mif\u001b[0m \u001b[0mentry\u001b[0m\u001b[0;34m.\u001b[0m\u001b[0mis_dir\u001b[0m\u001b[0;34m(\u001b[0m\u001b[0;34m)\u001b[0m\u001b[0;34m)\u001b[0m\u001b[0;34m\u001b[0m\u001b[0;34m\u001b[0m\u001b[0m\n\u001b[0m\u001b[1;32m     41\u001b[0m     \u001b[0;32mif\u001b[0m \u001b[0;32mnot\u001b[0m \u001b[0mclasses\u001b[0m\u001b[0;34m:\u001b[0m\u001b[0;34m\u001b[0m\u001b[0;34m\u001b[0m\u001b[0m\n\u001b[1;32m     42\u001b[0m         \u001b[0;32mraise\u001b[0m \u001b[0mFileNotFoundError\u001b[0m\u001b[0;34m(\u001b[0m\u001b[0;34mf\"Couldn't find any class folder in {directory}.\"\u001b[0m\u001b[0;34m)\u001b[0m\u001b[0;34m\u001b[0m\u001b[0;34m\u001b[0m\u001b[0m\n",
            "\u001b[0;31mFileNotFoundError\u001b[0m: [Errno 2] No such file or directory: 'dataset/train'"
          ]
        }
      ]
    },
    {
      "cell_type": "code",
      "metadata": {
        "colab": {
          "base_uri": "https://localhost:8080/",
          "height": 214
        },
        "id": "bFkUJus_QF8V",
        "outputId": "453aadde-ffbd-4efd-a6bf-a3838ba5e0a3"
      },
      "source": [
        "dataset_size = len(train_dataset)\n",
        "test_dataset_size = len(test_dataset)\n",
        "print(dataset_size)\n",
        "print(test_dataset_size)"
      ],
      "execution_count": 34,
      "outputs": [
        {
          "output_type": "error",
          "ename": "NameError",
          "evalue": "ignored",
          "traceback": [
            "\u001b[0;31m---------------------------------------------------------------------------\u001b[0m",
            "\u001b[0;31mNameError\u001b[0m                                 Traceback (most recent call last)",
            "\u001b[0;32m<ipython-input-34-68b5e6e760c1>\u001b[0m in \u001b[0;36m<module>\u001b[0;34m()\u001b[0m\n\u001b[0;32m----> 1\u001b[0;31m \u001b[0mdataset_size\u001b[0m \u001b[0;34m=\u001b[0m \u001b[0mlen\u001b[0m\u001b[0;34m(\u001b[0m\u001b[0mtrain_dataset\u001b[0m\u001b[0;34m)\u001b[0m\u001b[0;34m\u001b[0m\u001b[0;34m\u001b[0m\u001b[0m\n\u001b[0m\u001b[1;32m      2\u001b[0m \u001b[0mtest_dataset_size\u001b[0m \u001b[0;34m=\u001b[0m \u001b[0mlen\u001b[0m\u001b[0;34m(\u001b[0m\u001b[0mtest_dataset\u001b[0m\u001b[0;34m)\u001b[0m\u001b[0;34m\u001b[0m\u001b[0;34m\u001b[0m\u001b[0m\n\u001b[1;32m      3\u001b[0m \u001b[0mprint\u001b[0m\u001b[0;34m(\u001b[0m\u001b[0mdataset_size\u001b[0m\u001b[0;34m)\u001b[0m\u001b[0;34m\u001b[0m\u001b[0;34m\u001b[0m\u001b[0m\n\u001b[1;32m      4\u001b[0m \u001b[0mprint\u001b[0m\u001b[0;34m(\u001b[0m\u001b[0mtest_dataset_size\u001b[0m\u001b[0;34m)\u001b[0m\u001b[0;34m\u001b[0m\u001b[0;34m\u001b[0m\u001b[0m\n",
            "\u001b[0;31mNameError\u001b[0m: name 'train_dataset' is not defined"
          ]
        }
      ]
    },
    {
      "cell_type": "code",
      "metadata": {
        "id": "eQn-ljfyQIHp"
      },
      "source": [
        "classes = train_dataset.classes\n",
        "print(f'Total Number of Classe {len(classes)}')\n",
        "print(f'Classes Names: {classes}')\n",
        "\n",
        "img, label = train_dataset[random.randint(0,dataset_size)]\n",
        "print(img.shape)\n",
        "img=img.permute((1, 2, 0))\n",
        "print(img.shape)\n",
        "plt.imshow(img)\n",
        "print('Label (numeric):', label)\n",
        "print('Label (textual):', classes[label])"
      ],
      "execution_count": null,
      "outputs": []
    },
    {
      "cell_type": "code",
      "metadata": {
        "id": "fNoNPz24QIEj"
      },
      "source": [
        "train_ds=train_dataset\n",
        "val_ds=val_dataset"
      ],
      "execution_count": null,
      "outputs": []
    },
    {
      "cell_type": "code",
      "metadata": {
        "id": "5AEsYdpVQdv0"
      },
      "source": [
        "batch_size=2\n",
        "\n",
        "train_loader = DataLoader(train_ds, batch_size, shuffle=True)\n",
        "val_loader = DataLoader(val_ds, batch_size*2)\n",
        "test_loader = DataLoader(test_dataset, batch_size*2)"
      ],
      "execution_count": null,
      "outputs": []
    },
    {
      "cell_type": "code",
      "metadata": {
        "id": "Jpec3YQxQgd0"
      },
      "source": [
        "def show_batch(dl):\n",
        "    for images, labels in dl:\n",
        "        fig, ax = plt.subplots(figsize=(12, 12))\n",
        "        ax.set_xticks([]); ax.set_yticks([])\n",
        "        ax.imshow(make_grid(images, nrow=12).permute(1, 2, 0))\n",
        "        break\n",
        "\n",
        "show_batch(train_loader)"
      ],
      "execution_count": null,
      "outputs": []
    },
    {
      "cell_type": "code",
      "metadata": {
        "id": "zf--jM7uQgcF"
      },
      "source": [
        "class FruitCnnModel(nn.Module):\n",
        "    def __init__(self):\n",
        "        super().__init__()\n",
        "        self.network = nn.Sequential(\n",
        "            \n",
        "            nn.Conv2d(3, 16, kernel_size=2, padding=1), \n",
        "            nn.ReLU(),\n",
        "            nn.MaxPool2d(2, 2), # 16 X 50 X 50\n",
        "\n",
        "            nn.Conv2d(16, 32, kernel_size=2, stride=1, padding=1), \n",
        "            nn.ReLU(),\n",
        "            nn.MaxPool2d(2, 2), # 32 X 25 X 25\n",
        "\n",
        "            nn.Conv2d(32, 64, kernel_size=2, stride=1, padding=1),\n",
        "            nn.ReLU(),\n",
        "            nn.MaxPool2d(5, 5), # 64 X 5 X 5\n",
        "\n",
        "            nn.Flatten(), \n",
        "            nn.ReLU(),\n",
        "            nn.Linear(64*5*5, 2))\n",
        "        \n",
        "    def forward(self, xb):\n",
        "        return self.network(xb)\n",
        "\n",
        "model = FruitCnnModel()\n",
        "model"
      ],
      "execution_count": null,
      "outputs": []
    },
    {
      "cell_type": "code",
      "metadata": {
        "id": "7mi5ahoMQpQD"
      },
      "source": [
        "# Cross Entropy Loss \n",
        "error = nn.CrossEntropyLoss()\n",
        "\n",
        "# SGD Optimizer\n",
        "learning_rate = 0.1\n",
        "optimizer = torch.optim.SGD(model.parameters(), lr=learning_rate)"
      ],
      "execution_count": null,
      "outputs": []
    },
    {
      "cell_type": "code",
      "metadata": {
        "id": "F3NadDYoQqRC"
      },
      "source": [
        "num_epochs = 40\n",
        "count=0\n",
        "loss_list = []\n",
        "iteration_list = []\n",
        "accuracy_list = []\n",
        "for epoch in range(num_epochs):\n",
        "    for i, (images, labels) in enumerate(train_loader):\n",
        "        \n",
        "        train = Variable(images)\n",
        "        labels = Variable(labels)\n",
        "        \n",
        "        # Clear gradients\n",
        "        optimizer.zero_grad()\n",
        "        # Forward propagation\n",
        "        outputs = model(train)\n",
        "        \n",
        "        # Calculate softmax and ross entropy loss\n",
        "        loss = error(outputs, labels)\n",
        "        \n",
        "        # Calculating gradients\n",
        "        loss.backward()\n",
        "        \n",
        "        # Update parameters\n",
        "        optimizer.step()\n",
        "        count+=1\n",
        "        if count%50==0:\n",
        "            # Calculate Accuracy         \n",
        "            correct = 0\n",
        "            total = 0\n",
        "            # Iterate through test dataset\n",
        "            for images, labels in test_loader:\n",
        "\n",
        "                test = Variable(images)\n",
        "\n",
        "                # Forward propagation\n",
        "                outputs = model(test)\n",
        "\n",
        "                # Get predictions from the maximum value\n",
        "                predicted = torch.max(outputs.data, 1)[1]\n",
        "\n",
        "                # Total number of labels\n",
        "                total += len(labels)\n",
        "\n",
        "                correct += (predicted == labels).sum()\n",
        "\n",
        "            accuracy = 100 * correct / float(total)\n",
        "\n",
        "            # store loss and iteration\n",
        "            loss_list.append(loss.data)\n",
        "            iteration_list.append(count)\n",
        "            accuracy_list.append(accuracy)\n",
        "            print('Iteration: {}  Loss: {}  Accuracy: {} %'.format(count, loss.data, accuracy))"
      ],
      "execution_count": null,
      "outputs": []
    },
    {
      "cell_type": "code",
      "metadata": {
        "id": "QJx8IiNFQwBZ"
      },
      "source": [
        "#visualization loss \n",
        "plt.plot(iteration_list,loss_list)\n",
        "plt.xlabel(\"Number of iteration\")\n",
        "plt.ylabel(\"Loss\")\n",
        "plt.title(\"CNN: Loss vs Number of iteration\")\n",
        "plt.show()\n",
        "\n",
        "# visualization accuracy \n",
        "plt.plot(iteration_list,accuracy_list,color = \"red\")\n",
        "plt.xlabel(\"Number of iteration\")\n",
        "plt.ylabel(\"Accuracy\")\n",
        "plt.title(\"CNN: Accuracy vs Number of iteration\")\n",
        "plt.show()"
      ],
      "execution_count": null,
      "outputs": []
    },
    {
      "cell_type": "code",
      "metadata": {
        "id": "Z1K56tx4Q10W"
      },
      "source": [
        "def predict_image(img, model):\n",
        "    # Get predictions from model\n",
        "    yb = model(img.unsqueeze(0))\n",
        "    # Pick index with highest probability\n",
        "    _, preds  = torch.max(yb, dim=1)\n",
        "    # Retrieve the class label\n",
        "    return test_dataset.classes[preds[0].item()]"
      ],
      "execution_count": null,
      "outputs": []
    },
    {
      "cell_type": "code",
      "metadata": {
        "id": "isCnZkHqQ1yk"
      },
      "source": [
        "imgs = []\n",
        "for i in range(10):\n",
        "    img, label = test_dataset[random.randint(0,len(test_dataset)-1)]\n",
        "    imgs.append(img)\n",
        "    right = test_dataset.classes[label]\n",
        "    pred= predict_image(img, model)\n",
        "    print('Label:',right , 'Predicted:',pred)\n",
        "    print('status : ',right==pred)\n",
        "fig, ax = plt.subplots(figsize=(12, 12))\n",
        "ax.set_xticks([]); ax.set_yticks([])\n",
        "ax.imshow(make_grid(imgs, nrow=5).permute(1, 2, 0))"
      ],
      "execution_count": null,
      "outputs": []
    },
    {
      "cell_type": "code",
      "metadata": {
        "id": "5QDTsQuHTWaK"
      },
      "source": [
        ""
      ],
      "execution_count": null,
      "outputs": []
    }
  ]
}