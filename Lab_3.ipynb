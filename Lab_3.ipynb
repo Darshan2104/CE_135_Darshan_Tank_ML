{
  "nbformat": 4,
  "nbformat_minor": 0,
  "metadata": {
    "colab": {
      "name": "Lab_3.ipynb",
      "provenance": [],
      "collapsed_sections": [],
      "authorship_tag": "ABX9TyOFTWBil1GrArBmSPXoNRC6",
      "include_colab_link": true
    },
    "kernelspec": {
      "name": "python3",
      "display_name": "Python 3"
    },
    "language_info": {
      "name": "python"
    }
  },
  "cells": [
    {
      "cell_type": "markdown",
      "metadata": {
        "id": "view-in-github",
        "colab_type": "text"
      },
      "source": [
        "<a href=\"https://colab.research.google.com/github/Darshan2104/CE_135_Darshan_Tank_ML/blob/main/Lab_3.ipynb\" target=\"_parent\"><img src=\"https://colab.research.google.com/assets/colab-badge.svg\" alt=\"Open In Colab\"/></a>"
      ]
    },
    {
      "cell_type": "code",
      "metadata": {
        "colab": {
          "base_uri": "https://localhost:8080/"
        },
        "id": "G6fMSvXJpwPK",
        "outputId": "3c09c3ba-c86e-480c-c442-596d3417bdfd"
      },
      "source": [
        "from google.colab import drive\n",
        "drive.mount('/content/drive')"
      ],
      "execution_count": null,
      "outputs": [
        {
          "output_type": "stream",
          "text": [
            "Mounted at /content/drive\n"
          ],
          "name": "stdout"
        }
      ]
    },
    {
      "cell_type": "code",
      "metadata": {
        "id": "uCCFKUJhp9iU"
      },
      "source": [
        "#Import scikit-learn dataset library\n",
        "import numpy as np\n",
        "import pandas as pd\n",
        "from sklearn import datasets\n",
        "from sklearn import preprocessing\n",
        "from sklearn.naive_bayes import GaussianNB, MultinomialNB"
      ],
      "execution_count": 4,
      "outputs": []
    },
    {
      "cell_type": "code",
      "metadata": {
        "id": "AiWrmTJd3OEb",
        "colab": {
          "base_uri": "https://localhost:8080/"
        },
        "outputId": "6eaa80c7-9b78-428c-a992-f99d3c8c363e"
      },
      "source": [
        "#load data of csv file and encode it \n",
        "data = pd.read_csv(\"/content/drive/MyDrive/L3/PracticeDataSets/Dataset2.csv\");\n",
        "labels = preprocessing.LabelEncoder()\n",
        "for fe in data:\n",
        "  print(fe)\n",
        "  print(list(data[fe]))\n",
        "  data[fe] =labels.fit_transform(data[fe])\n",
        "  print(list(data[fe]))"
      ],
      "execution_count": 6,
      "outputs": [
        {
          "output_type": "stream",
          "text": [
            "Outlook\n",
            "['R', 'R', 'O', 'S', 'S', 'S', 'O', 'R', 'R', 'S', 'R', 'O', 'O', 'S']\n",
            "[1, 1, 0, 2, 2, 2, 0, 1, 1, 2, 1, 0, 0, 2]\n",
            "Temp\n",
            "['H', 'H', 'H', 'M', 'M', 'M', 'C', 'C', 'C', 'M', 'M', 'M', 'H', 'M']\n",
            "[1, 1, 1, 2, 2, 2, 0, 0, 0, 2, 2, 2, 1, 2]\n",
            "Wind\n",
            "['F', 'T', 'F', 'F', 'F', 'T', 'T', 'F', 'F', 'F', 'T', 'T', 'F', 'T']\n",
            "[0, 1, 0, 0, 0, 1, 1, 0, 0, 0, 1, 1, 0, 1]\n",
            "Humidity\n",
            "['Normal', 'High', 'Normal', 'Normal', 'Normal', 'Low', 'Normal', 'Normal', 'Low', 'High', 'High', 'Low', 'Normal', 'Normal']\n",
            "[2, 0, 2, 2, 2, 1, 2, 2, 1, 0, 0, 1, 2, 2]\n",
            "Class\n",
            "['N', 'N', 'Y', 'N', 'Y', 'Y', 'Y', 'Y', 'Y', 'Y', 'Y', 'Y', 'Y', 'N']\n",
            "[0, 0, 1, 0, 1, 1, 1, 1, 1, 1, 1, 1, 1, 0]\n"
          ],
          "name": "stdout"
        }
      ]
    },
    {
      "cell_type": "code",
      "metadata": {
        "colab": {
          "base_uri": "https://localhost:8080/"
        },
        "id": "4pGHt5cFB6FV",
        "outputId": "81f214c1-3074-406a-b684-6c1af13d99fb"
      },
      "source": [
        "fe=tuple(zip(data['Outlook'],data['Temp'],data['Wind'],data['Humidity']))\n",
        "print(\"Features:\",fe)"
      ],
      "execution_count": 7,
      "outputs": [
        {
          "output_type": "stream",
          "text": [
            "Features: ((1, 1, 0, 2), (1, 1, 1, 0), (0, 1, 0, 2), (2, 2, 0, 2), (2, 2, 0, 2), (2, 2, 1, 1), (0, 0, 1, 2), (1, 0, 0, 2), (1, 0, 0, 1), (2, 2, 0, 0), (1, 2, 1, 0), (0, 2, 1, 1), (0, 1, 0, 2), (2, 2, 1, 2))\n"
          ],
          "name": "stdout"
        }
      ]
    },
    {
      "cell_type": "code",
      "metadata": {
        "id": "IgcZ2AnoCHp1"
      },
      "source": [
        "#training of model with train test division 90%-10%\n",
        "from sklearn.model_selection import train_test_split\n",
        "#random_state is : 63\n",
        "data_train, data_test, target_train, target_test = train_test_split(fe,data['Class'], test_size = 0.10, random_state =63)"
      ],
      "execution_count": 9,
      "outputs": []
    },
    {
      "cell_type": "code",
      "metadata": {
        "id": "tJqbgpASCMTt"
      },
      "source": [
        "model=MultinomialNB()\n",
        "model.fit(data_train, target_train)\n",
        "target_pred = model.predict(data_test)"
      ],
      "execution_count": 10,
      "outputs": []
    },
    {
      "cell_type": "code",
      "metadata": {
        "colab": {
          "base_uri": "https://localhost:8080/"
        },
        "id": "Eq3I7xt1DAzW",
        "outputId": "34c1d96e-4f52-4892-a6ea-75b93707488f"
      },
      "source": [
        "#accuracy calculation for random_state = 63\n",
        "from sklearn import metrics\n",
        "print(\"Accuracy:\",metrics.accuracy_score(target_test, target_pred))"
      ],
      "execution_count": 11,
      "outputs": [
        {
          "output_type": "stream",
          "text": [
            "Accuracy: 1.0\n"
          ],
          "name": "stdout"
        }
      ]
    },
    {
      "cell_type": "code",
      "metadata": {
        "colab": {
          "base_uri": "https://localhost:8080/"
        },
        "id": "Y83MCQdRDEbj",
        "outputId": "4a886336-f005-4641-e97b-e3ee728b74d8"
      },
      "source": [
        "from sklearn.metrics import precision_score\n",
        "from sklearn.metrics import recall_score\n",
        "precision = precision_score(target_test, target_pred)\n",
        "recall = recall_score(target_test, target_pred)\n",
        "print('precision: {}'.format(precision))\n",
        "print('recall: {}'.format(recall))"
      ],
      "execution_count": 12,
      "outputs": [
        {
          "output_type": "stream",
          "text": [
            "precision: 1.0\n",
            "recall: 1.0\n"
          ],
          "name": "stdout"
        }
      ]
    },
    {
      "cell_type": "code",
      "metadata": {
        "colab": {
          "base_uri": "https://localhost:8080/"
        },
        "id": "rqKE3yenDITi",
        "outputId": "a272431f-a767-44ba-d647-1ff79aa46673"
      },
      "source": [
        "#Predict Output\n",
        "#input Outlook is ’Rainy’, Temperature is ’Mild’, Humidity =’Normal’, and Wind = ’False’\n",
        "predicted= model.predict([[1,2,2,0]]) # 0:Overcast, 2:Mild\n",
        "print(\"Predicted Value:\", predicted)"
      ],
      "execution_count": 13,
      "outputs": [
        {
          "output_type": "stream",
          "text": [
            "Predicted Value: [1]\n"
          ],
          "name": "stdout"
        }
      ]
    },
    {
      "cell_type": "code",
      "metadata": {
        "colab": {
          "base_uri": "https://localhost:8080/"
        },
        "id": "wAkO1qUcDK1_",
        "outputId": "875a3a96-5b3d-4f02-fd4e-6663aad4712c"
      },
      "source": [
        "#input Outlook is ’Sunny’, Temeprature is ’Cool’, Humidity =’High’, and Wind = ’True’\n",
        "predicted= model.predict([[2,0,0,1]]) # 0:Overcast, 2:Mild\n",
        "print(\"Predicted Value:\", predicted)"
      ],
      "execution_count": 14,
      "outputs": [
        {
          "output_type": "stream",
          "text": [
            "Predicted Value: [1]\n"
          ],
          "name": "stdout"
        }
      ]
    },
    {
      "cell_type": "code",
      "metadata": {
        "id": "CMvXYPlDDOkj"
      },
      "source": [
        "from sklearn.datasets import load_digits\n",
        "import matplotlib.pyplot as plt"
      ],
      "execution_count": 15,
      "outputs": []
    },
    {
      "cell_type": "code",
      "metadata": {
        "colab": {
          "base_uri": "https://localhost:8080/",
          "height": 265
        },
        "id": "QOqFnuUyDk89",
        "outputId": "d21abc73-b3e5-4c9e-ee1c-7d150ca04a62"
      },
      "source": [
        "digits = load_digits()\n",
        "plt.figure(1, figsize=(4, 4))\n",
        "plt.imshow(digits.images[7])\n",
        "plt.show()"
      ],
      "execution_count": 16,
      "outputs": [
        {
          "output_type": "display_data",
          "data": {
            "image/png": "[encoded data removed]",
            "text/plain": [
              "<Figure size 288x288 with 1 Axes>"
            ]
          },
          "metadata": {
            "needs_background": "light"
          }
        }
      ]
    },
    {
      "cell_type": "code",
      "metadata": {
        "id": "FxVCRg-IDpt4"
      },
      "source": [
        "from sklearn.model_selection import train_test_split\n",
        "data_train, data_test, target_train, target_test = train_test_split(digits.data,\n",
        " digits.target, test_size = 0.35, random_state = 63)"
      ],
      "execution_count": 17,
      "outputs": []
    },
    {
      "cell_type": "code",
      "metadata": {
        "id": "y3YcLFFoDucq"
      },
      "source": [
        "gnb = GaussianNB()\n",
        "#Train the model using the training sets\n",
        "gnb.fit(data_train, target_train)\n",
        "#Predict the response for test dataset\n",
        "target_pred = gnb.predict(data_test)\n"
      ],
      "execution_count": 18,
      "outputs": []
    },
    {
      "cell_type": "code",
      "metadata": {
        "colab": {
          "base_uri": "https://localhost:8080/"
        },
        "id": "7kaIFHgNDxRO",
        "outputId": "195d53cb-7878-40a0-8a79-5a05d6323763"
      },
      "source": [
        "from sklearn import metrics\n",
        "print(\"Accuracy:\",metrics.accuracy_score(target_test, target_pred))"
      ],
      "execution_count": 19,
      "outputs": [
        {
          "output_type": "stream",
          "text": [
            "Accuracy: 0.848966613672496\n"
          ],
          "name": "stdout"
        }
      ]
    },
    {
      "cell_type": "code",
      "metadata": {
        "colab": {
          "base_uri": "https://localhost:8080/"
        },
        "id": "mRZH-uKaD0Ln",
        "outputId": "605da228-c15e-4fd7-f17b-f7b8355c9803"
      },
      "source": [
        "from sklearn.metrics import confusion_matrix\n",
        "confusion_matrix(target_test, target_pred)"
      ],
      "execution_count": 20,
      "outputs": [
        {
          "output_type": "execute_result",
          "data": {
            "text/plain": [
              "array([[59,  0,  0,  0,  1,  0,  0,  1,  0,  0],\n",
              "       [ 0, 53,  1,  0,  0,  0,  1,  1, 14,  0],\n",
              "       [ 0,  2, 54,  2,  1,  0,  1,  0,  4,  2],\n",
              "       [ 0,  0,  2, 47,  0,  4,  0,  2,  6,  0],\n",
              "       [ 0,  1,  0,  0, 58,  0,  0,  6,  1,  0],\n",
              "       [ 0,  0,  0,  1,  0, 52,  1,  2,  1,  0],\n",
              "       [ 0,  0,  0,  0,  0,  1, 54,  0,  0,  0],\n",
              "       [ 0,  0,  1,  0,  1,  0,  0, 60,  0,  0],\n",
              "       [ 0,  3,  1,  1,  0,  3,  0,  1, 54,  0],\n",
              "       [ 2,  4,  0,  2,  0,  3,  0,  6,  8, 43]])"
            ]
          },
          "metadata": {},
          "execution_count": 20
        }
      ]
    },
    {
      "cell_type": "code",
      "metadata": {
        "colab": {
          "base_uri": "https://localhost:8080/"
        },
        "id": "9bQh97k0D5h-",
        "outputId": "a0f5d789-053a-4cda-81a7-dc59da10a311"
      },
      "source": [
        "from sklearn.metrics import precision_score\n",
        "from sklearn.metrics import recall_score\n",
        "precision = precision_score(target_test, target_pred,average=None)\n",
        "recall = recall_score(target_test, target_pred,average=None)\n",
        "print('precision per feature:'+ str(precision))\n",
        "print('recall per feature:'+ str(recall))\n",
        "final_precision = precision.mean()\n",
        "final_recall =recall.mean()\n",
        "print('\\n\\nprecision: {}'.format(final_precision))\n",
        "print('recall: {}'.format(final_recall))"
      ],
      "execution_count": 21,
      "outputs": [
        {
          "output_type": "stream",
          "text": [
            "precision per feature:[0.96721311 0.84126984 0.91525424 0.88679245 0.95081967 0.82539683\n",
            " 0.94736842 0.75949367 0.61363636 0.95555556]\n",
            "recall per feature:[0.96721311 0.75714286 0.81818182 0.7704918  0.87878788 0.9122807\n",
            " 0.98181818 0.96774194 0.85714286 0.63235294]\n",
            "\n",
            "\n",
            "precision: 0.8662800154800863\n",
            "recall: 0.8543154089521107\n"
          ],
          "name": "stdout"
        }
      ]
    }
  ]
}